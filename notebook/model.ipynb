{
 "cells": [
  {
   "cell_type": "code",
   "execution_count": 1,
   "id": "f3e00117",
   "metadata": {},
   "outputs": [],
   "source": [
    "import numpy as np # linear algebra\n",
    "import pandas as pd # data processing, CSV file I/O (e.g. pd.read_csv)\n",
    "import matplotlib.pyplot as plt\n",
    "import seaborn as sns\n",
    "from sklearn.model_selection import train_test_split\n",
    "from sklearn.metrics import mean_squared_error\n",
    "from lightgbm import LGBMRegressor\n",
    "from xgboost import XGBRegressor\n",
    "from sklearn.linear_model import Ridge"
   ]
  },
  {
   "cell_type": "code",
   "execution_count": 3,
   "id": "5ad5f998",
   "metadata": {},
   "outputs": [],
   "source": [
    "comp_df = pd.read_csv('train.csv')\n",
    "original_df = pd.read_csv('synthetic_road_accidents_100k.csv')\n",
    "test_df = pd.read_csv('test.csv')"
   ]
  },
  {
   "cell_type": "code",
   "execution_count": 4,
   "id": "6f4ba6db",
   "metadata": {},
   "outputs": [
    {
     "data": {
      "text/html": [
       "<div>\n",
       "<style scoped>\n",
       "    .dataframe tbody tr th:only-of-type {\n",
       "        vertical-align: middle;\n",
       "    }\n",
       "\n",
       "    .dataframe tbody tr th {\n",
       "        vertical-align: top;\n",
       "    }\n",
       "\n",
       "    .dataframe thead th {\n",
       "        text-align: right;\n",
       "    }\n",
       "</style>\n",
       "<table border=\"1\" class=\"dataframe\">\n",
       "  <thead>\n",
       "    <tr style=\"text-align: right;\">\n",
       "      <th></th>\n",
       "      <th>id</th>\n",
       "      <th>road_type</th>\n",
       "      <th>num_lanes</th>\n",
       "      <th>curvature</th>\n",
       "      <th>speed_limit</th>\n",
       "      <th>lighting</th>\n",
       "      <th>weather</th>\n",
       "      <th>road_signs_present</th>\n",
       "      <th>public_road</th>\n",
       "      <th>time_of_day</th>\n",
       "      <th>holiday</th>\n",
       "      <th>school_season</th>\n",
       "      <th>num_reported_accidents</th>\n",
       "      <th>accident_risk</th>\n",
       "    </tr>\n",
       "  </thead>\n",
       "  <tbody>\n",
       "    <tr>\n",
       "      <th>517744</th>\n",
       "      <td>517744</td>\n",
       "      <td>highway</td>\n",
       "      <td>4</td>\n",
       "      <td>0.38</td>\n",
       "      <td>60</td>\n",
       "      <td>night</td>\n",
       "      <td>clear</td>\n",
       "      <td>True</td>\n",
       "      <td>False</td>\n",
       "      <td>afternoon</td>\n",
       "      <td>True</td>\n",
       "      <td>False</td>\n",
       "      <td>1</td>\n",
       "      <td>0.42</td>\n",
       "    </tr>\n",
       "    <tr>\n",
       "      <th>517745</th>\n",
       "      <td>517745</td>\n",
       "      <td>highway</td>\n",
       "      <td>4</td>\n",
       "      <td>0.02</td>\n",
       "      <td>35</td>\n",
       "      <td>daylight</td>\n",
       "      <td>clear</td>\n",
       "      <td>True</td>\n",
       "      <td>True</td>\n",
       "      <td>morning</td>\n",
       "      <td>False</td>\n",
       "      <td>False</td>\n",
       "      <td>0</td>\n",
       "      <td>0.02</td>\n",
       "    </tr>\n",
       "    <tr>\n",
       "      <th>517746</th>\n",
       "      <td>517746</td>\n",
       "      <td>rural</td>\n",
       "      <td>4</td>\n",
       "      <td>0.53</td>\n",
       "      <td>70</td>\n",
       "      <td>dim</td>\n",
       "      <td>rainy</td>\n",
       "      <td>True</td>\n",
       "      <td>True</td>\n",
       "      <td>evening</td>\n",
       "      <td>False</td>\n",
       "      <td>False</td>\n",
       "      <td>3</td>\n",
       "      <td>0.53</td>\n",
       "    </tr>\n",
       "    <tr>\n",
       "      <th>517747</th>\n",
       "      <td>517747</td>\n",
       "      <td>urban</td>\n",
       "      <td>3</td>\n",
       "      <td>0.39</td>\n",
       "      <td>35</td>\n",
       "      <td>dim</td>\n",
       "      <td>foggy</td>\n",
       "      <td>True</td>\n",
       "      <td>True</td>\n",
       "      <td>morning</td>\n",
       "      <td>False</td>\n",
       "      <td>False</td>\n",
       "      <td>0</td>\n",
       "      <td>0.15</td>\n",
       "    </tr>\n",
       "    <tr>\n",
       "      <th>517748</th>\n",
       "      <td>517748</td>\n",
       "      <td>rural</td>\n",
       "      <td>2</td>\n",
       "      <td>0.53</td>\n",
       "      <td>70</td>\n",
       "      <td>dim</td>\n",
       "      <td>foggy</td>\n",
       "      <td>True</td>\n",
       "      <td>True</td>\n",
       "      <td>afternoon</td>\n",
       "      <td>True</td>\n",
       "      <td>True</td>\n",
       "      <td>2</td>\n",
       "      <td>0.37</td>\n",
       "    </tr>\n",
       "    <tr>\n",
       "      <th>517749</th>\n",
       "      <td>517749</td>\n",
       "      <td>highway</td>\n",
       "      <td>4</td>\n",
       "      <td>0.10</td>\n",
       "      <td>70</td>\n",
       "      <td>daylight</td>\n",
       "      <td>foggy</td>\n",
       "      <td>True</td>\n",
       "      <td>True</td>\n",
       "      <td>afternoon</td>\n",
       "      <td>False</td>\n",
       "      <td>False</td>\n",
       "      <td>2</td>\n",
       "      <td>0.32</td>\n",
       "    </tr>\n",
       "    <tr>\n",
       "      <th>517750</th>\n",
       "      <td>517750</td>\n",
       "      <td>rural</td>\n",
       "      <td>4</td>\n",
       "      <td>0.47</td>\n",
       "      <td>35</td>\n",
       "      <td>daylight</td>\n",
       "      <td>rainy</td>\n",
       "      <td>True</td>\n",
       "      <td>True</td>\n",
       "      <td>morning</td>\n",
       "      <td>False</td>\n",
       "      <td>False</td>\n",
       "      <td>1</td>\n",
       "      <td>0.26</td>\n",
       "    </tr>\n",
       "    <tr>\n",
       "      <th>517751</th>\n",
       "      <td>517751</td>\n",
       "      <td>urban</td>\n",
       "      <td>4</td>\n",
       "      <td>0.62</td>\n",
       "      <td>25</td>\n",
       "      <td>daylight</td>\n",
       "      <td>foggy</td>\n",
       "      <td>False</td>\n",
       "      <td>False</td>\n",
       "      <td>afternoon</td>\n",
       "      <td>False</td>\n",
       "      <td>True</td>\n",
       "      <td>0</td>\n",
       "      <td>0.19</td>\n",
       "    </tr>\n",
       "    <tr>\n",
       "      <th>517752</th>\n",
       "      <td>517752</td>\n",
       "      <td>highway</td>\n",
       "      <td>3</td>\n",
       "      <td>0.63</td>\n",
       "      <td>25</td>\n",
       "      <td>night</td>\n",
       "      <td>clear</td>\n",
       "      <td>True</td>\n",
       "      <td>False</td>\n",
       "      <td>afternoon</td>\n",
       "      <td>True</td>\n",
       "      <td>True</td>\n",
       "      <td>3</td>\n",
       "      <td>0.51</td>\n",
       "    </tr>\n",
       "    <tr>\n",
       "      <th>517753</th>\n",
       "      <td>517753</td>\n",
       "      <td>highway</td>\n",
       "      <td>2</td>\n",
       "      <td>0.31</td>\n",
       "      <td>45</td>\n",
       "      <td>dim</td>\n",
       "      <td>rainy</td>\n",
       "      <td>False</td>\n",
       "      <td>True</td>\n",
       "      <td>afternoon</td>\n",
       "      <td>True</td>\n",
       "      <td>True</td>\n",
       "      <td>2</td>\n",
       "      <td>0.22</td>\n",
       "    </tr>\n",
       "  </tbody>\n",
       "</table>\n",
       "</div>"
      ],
      "text/plain": [
       "            id road_type  num_lanes  curvature  speed_limit  lighting weather  \\\n",
       "517744  517744   highway          4       0.38           60     night   clear   \n",
       "517745  517745   highway          4       0.02           35  daylight   clear   \n",
       "517746  517746     rural          4       0.53           70       dim   rainy   \n",
       "517747  517747     urban          3       0.39           35       dim   foggy   \n",
       "517748  517748     rural          2       0.53           70       dim   foggy   \n",
       "517749  517749   highway          4       0.10           70  daylight   foggy   \n",
       "517750  517750     rural          4       0.47           35  daylight   rainy   \n",
       "517751  517751     urban          4       0.62           25  daylight   foggy   \n",
       "517752  517752   highway          3       0.63           25     night   clear   \n",
       "517753  517753   highway          2       0.31           45       dim   rainy   \n",
       "\n",
       "        road_signs_present  public_road time_of_day  holiday  school_season  \\\n",
       "517744                True        False   afternoon     True          False   \n",
       "517745                True         True     morning    False          False   \n",
       "517746                True         True     evening    False          False   \n",
       "517747                True         True     morning    False          False   \n",
       "517748                True         True   afternoon     True           True   \n",
       "517749                True         True   afternoon    False          False   \n",
       "517750                True         True     morning    False          False   \n",
       "517751               False        False   afternoon    False           True   \n",
       "517752                True        False   afternoon     True           True   \n",
       "517753               False         True   afternoon     True           True   \n",
       "\n",
       "        num_reported_accidents  accident_risk  \n",
       "517744                       1           0.42  \n",
       "517745                       0           0.02  \n",
       "517746                       3           0.53  \n",
       "517747                       0           0.15  \n",
       "517748                       2           0.37  \n",
       "517749                       2           0.32  \n",
       "517750                       1           0.26  \n",
       "517751                       0           0.19  \n",
       "517752                       3           0.51  \n",
       "517753                       2           0.22  "
      ]
     },
     "execution_count": 4,
     "metadata": {},
     "output_type": "execute_result"
    }
   ],
   "source": [
    "comp_df.tail(10)"
   ]
  },
  {
   "cell_type": "code",
   "execution_count": 5,
   "id": "a38c6a9e",
   "metadata": {},
   "outputs": [
    {
     "data": {
      "text/html": [
       "<div>\n",
       "<style scoped>\n",
       "    .dataframe tbody tr th:only-of-type {\n",
       "        vertical-align: middle;\n",
       "    }\n",
       "\n",
       "    .dataframe tbody tr th {\n",
       "        vertical-align: top;\n",
       "    }\n",
       "\n",
       "    .dataframe thead th {\n",
       "        text-align: right;\n",
       "    }\n",
       "</style>\n",
       "<table border=\"1\" class=\"dataframe\">\n",
       "  <thead>\n",
       "    <tr style=\"text-align: right;\">\n",
       "      <th></th>\n",
       "      <th>road_type</th>\n",
       "      <th>num_lanes</th>\n",
       "      <th>curvature</th>\n",
       "      <th>speed_limit</th>\n",
       "      <th>lighting</th>\n",
       "      <th>weather</th>\n",
       "      <th>road_signs_present</th>\n",
       "      <th>public_road</th>\n",
       "      <th>time_of_day</th>\n",
       "      <th>holiday</th>\n",
       "      <th>school_season</th>\n",
       "      <th>num_reported_accidents</th>\n",
       "      <th>accident_risk</th>\n",
       "    </tr>\n",
       "  </thead>\n",
       "  <tbody>\n",
       "    <tr>\n",
       "      <th>99995</th>\n",
       "      <td>rural</td>\n",
       "      <td>2</td>\n",
       "      <td>0.61</td>\n",
       "      <td>60</td>\n",
       "      <td>dim</td>\n",
       "      <td>foggy</td>\n",
       "      <td>False</td>\n",
       "      <td>True</td>\n",
       "      <td>evening</td>\n",
       "      <td>False</td>\n",
       "      <td>False</td>\n",
       "      <td>1</td>\n",
       "      <td>0.54</td>\n",
       "    </tr>\n",
       "    <tr>\n",
       "      <th>99996</th>\n",
       "      <td>rural</td>\n",
       "      <td>2</td>\n",
       "      <td>0.52</td>\n",
       "      <td>35</td>\n",
       "      <td>dim</td>\n",
       "      <td>foggy</td>\n",
       "      <td>True</td>\n",
       "      <td>True</td>\n",
       "      <td>afternoon</td>\n",
       "      <td>False</td>\n",
       "      <td>False</td>\n",
       "      <td>1</td>\n",
       "      <td>0.18</td>\n",
       "    </tr>\n",
       "    <tr>\n",
       "      <th>99997</th>\n",
       "      <td>rural</td>\n",
       "      <td>2</td>\n",
       "      <td>0.08</td>\n",
       "      <td>70</td>\n",
       "      <td>daylight</td>\n",
       "      <td>clear</td>\n",
       "      <td>False</td>\n",
       "      <td>False</td>\n",
       "      <td>evening</td>\n",
       "      <td>True</td>\n",
       "      <td>False</td>\n",
       "      <td>1</td>\n",
       "      <td>0.20</td>\n",
       "    </tr>\n",
       "    <tr>\n",
       "      <th>99998</th>\n",
       "      <td>rural</td>\n",
       "      <td>1</td>\n",
       "      <td>0.83</td>\n",
       "      <td>70</td>\n",
       "      <td>dim</td>\n",
       "      <td>foggy</td>\n",
       "      <td>False</td>\n",
       "      <td>True</td>\n",
       "      <td>morning</td>\n",
       "      <td>False</td>\n",
       "      <td>True</td>\n",
       "      <td>0</td>\n",
       "      <td>0.58</td>\n",
       "    </tr>\n",
       "    <tr>\n",
       "      <th>99999</th>\n",
       "      <td>rural</td>\n",
       "      <td>2</td>\n",
       "      <td>0.01</td>\n",
       "      <td>45</td>\n",
       "      <td>daylight</td>\n",
       "      <td>foggy</td>\n",
       "      <td>False</td>\n",
       "      <td>True</td>\n",
       "      <td>evening</td>\n",
       "      <td>True</td>\n",
       "      <td>False</td>\n",
       "      <td>2</td>\n",
       "      <td>0.14</td>\n",
       "    </tr>\n",
       "  </tbody>\n",
       "</table>\n",
       "</div>"
      ],
      "text/plain": [
       "      road_type  num_lanes  curvature  speed_limit  lighting weather  \\\n",
       "99995     rural          2       0.61           60       dim   foggy   \n",
       "99996     rural          2       0.52           35       dim   foggy   \n",
       "99997     rural          2       0.08           70  daylight   clear   \n",
       "99998     rural          1       0.83           70       dim   foggy   \n",
       "99999     rural          2       0.01           45  daylight   foggy   \n",
       "\n",
       "       road_signs_present  public_road time_of_day  holiday  school_season  \\\n",
       "99995               False         True     evening    False          False   \n",
       "99996                True         True   afternoon    False          False   \n",
       "99997               False        False     evening     True          False   \n",
       "99998               False         True     morning    False           True   \n",
       "99999               False         True     evening     True          False   \n",
       "\n",
       "       num_reported_accidents  accident_risk  \n",
       "99995                       1           0.54  \n",
       "99996                       1           0.18  \n",
       "99997                       1           0.20  \n",
       "99998                       0           0.58  \n",
       "99999                       2           0.14  "
      ]
     },
     "execution_count": 5,
     "metadata": {},
     "output_type": "execute_result"
    }
   ],
   "source": [
    "original_df.tail()"
   ]
  },
  {
   "cell_type": "code",
   "execution_count": 6,
   "id": "956e7674",
   "metadata": {},
   "outputs": [
    {
     "name": "stdout",
     "output_type": "stream",
     "text": [
      "False\n"
     ]
    }
   ],
   "source": [
    "equal_data = comp_df.equals(original_df)\n",
    "print(equal_data)\n"
   ]
  },
  {
   "cell_type": "code",
   "execution_count": 7,
   "id": "81e9c42a",
   "metadata": {},
   "outputs": [
    {
     "name": "stdout",
     "output_type": "stream",
     "text": [
      "comp train data shape:  (517754, 14)\n",
      "original data shape:  (100000, 13)\n"
     ]
    }
   ],
   "source": [
    "print(\"comp train data shape: \",comp_df.shape)\n",
    "print(\"original data shape: \",original_df.shape)"
   ]
  },
  {
   "cell_type": "code",
   "execution_count": null,
   "id": "5fe6ff95",
   "metadata": {},
   "outputs": [],
   "source": [
    "comp_df.drop('id', axis=1,inplace=True)\n",
    "test_df.drop('id', axis=1,inplace=True)"
   ]
  },
  {
   "cell_type": "code",
   "execution_count": 9,
   "id": "64a53073",
   "metadata": {},
   "outputs": [
    {
     "data": {
      "text/html": [
       "<div>\n",
       "<style scoped>\n",
       "    .dataframe tbody tr th:only-of-type {\n",
       "        vertical-align: middle;\n",
       "    }\n",
       "\n",
       "    .dataframe tbody tr th {\n",
       "        vertical-align: top;\n",
       "    }\n",
       "\n",
       "    .dataframe thead th {\n",
       "        text-align: right;\n",
       "    }\n",
       "</style>\n",
       "<table border=\"1\" class=\"dataframe\">\n",
       "  <thead>\n",
       "    <tr style=\"text-align: right;\">\n",
       "      <th></th>\n",
       "      <th>road_type</th>\n",
       "      <th>num_lanes</th>\n",
       "      <th>curvature</th>\n",
       "      <th>speed_limit</th>\n",
       "      <th>lighting</th>\n",
       "      <th>weather</th>\n",
       "      <th>road_signs_present</th>\n",
       "      <th>public_road</th>\n",
       "      <th>time_of_day</th>\n",
       "      <th>holiday</th>\n",
       "      <th>school_season</th>\n",
       "      <th>num_reported_accidents</th>\n",
       "      <th>accident_risk</th>\n",
       "    </tr>\n",
       "  </thead>\n",
       "  <tbody>\n",
       "    <tr>\n",
       "      <th>0</th>\n",
       "      <td>urban</td>\n",
       "      <td>2</td>\n",
       "      <td>0.06</td>\n",
       "      <td>35</td>\n",
       "      <td>daylight</td>\n",
       "      <td>rainy</td>\n",
       "      <td>False</td>\n",
       "      <td>True</td>\n",
       "      <td>afternoon</td>\n",
       "      <td>False</td>\n",
       "      <td>True</td>\n",
       "      <td>1</td>\n",
       "      <td>0.13</td>\n",
       "    </tr>\n",
       "  </tbody>\n",
       "</table>\n",
       "</div>"
      ],
      "text/plain": [
       "  road_type  num_lanes  curvature  speed_limit  lighting weather  \\\n",
       "0     urban          2       0.06           35  daylight   rainy   \n",
       "\n",
       "   road_signs_present  public_road time_of_day  holiday  school_season  \\\n",
       "0               False         True   afternoon    False           True   \n",
       "\n",
       "   num_reported_accidents  accident_risk  \n",
       "0                       1           0.13  "
      ]
     },
     "execution_count": 9,
     "metadata": {},
     "output_type": "execute_result"
    }
   ],
   "source": [
    "comp_df.head(1)"
   ]
  },
  {
   "cell_type": "code",
   "execution_count": 10,
   "id": "37ad722a",
   "metadata": {},
   "outputs": [],
   "source": [
    "comp_df['is_original'] = 0\n",
    "original_df['is_original']=1"
   ]
  },
  {
   "cell_type": "code",
   "execution_count": 11,
   "id": "00ecf1f4",
   "metadata": {},
   "outputs": [],
   "source": [
    "full_train_df = pd.concat([comp_df,original_df],ignore_index=1)"
   ]
  },
  {
   "cell_type": "code",
   "execution_count": 14,
   "id": "f0b06f31",
   "metadata": {},
   "outputs": [
    {
     "data": {
      "text/plain": [
       "(617754, 14)"
      ]
     },
     "execution_count": 14,
     "metadata": {},
     "output_type": "execute_result"
    }
   ],
   "source": [
    "full_train_df.shape"
   ]
  },
  {
   "cell_type": "code",
   "execution_count": 15,
   "id": "c28bcd40",
   "metadata": {},
   "outputs": [
    {
     "name": "stdout",
     "output_type": "stream",
     "text": [
      "<class 'pandas.core.frame.DataFrame'>\n",
      "RangeIndex: 617754 entries, 0 to 617753\n",
      "Data columns (total 14 columns):\n",
      " #   Column                  Non-Null Count   Dtype  \n",
      "---  ------                  --------------   -----  \n",
      " 0   road_type               617754 non-null  object \n",
      " 1   num_lanes               617754 non-null  int64  \n",
      " 2   curvature               617754 non-null  float64\n",
      " 3   speed_limit             617754 non-null  int64  \n",
      " 4   lighting                617754 non-null  object \n",
      " 5   weather                 617754 non-null  object \n",
      " 6   road_signs_present      617754 non-null  bool   \n",
      " 7   public_road             617754 non-null  bool   \n",
      " 8   time_of_day             617754 non-null  object \n",
      " 9   holiday                 617754 non-null  bool   \n",
      " 10  school_season           617754 non-null  bool   \n",
      " 11  num_reported_accidents  617754 non-null  int64  \n",
      " 12  accident_risk           617754 non-null  float64\n",
      " 13  is_original             617754 non-null  int64  \n",
      "dtypes: bool(4), float64(2), int64(4), object(4)\n",
      "memory usage: 49.5+ MB\n"
     ]
    }
   ],
   "source": [
    "full_train_df.info()"
   ]
  },
  {
   "cell_type": "code",
   "execution_count": 16,
   "id": "08184a92",
   "metadata": {},
   "outputs": [
    {
     "data": {
      "text/plain": [
       "road_type                 0\n",
       "num_lanes                 0\n",
       "curvature                 0\n",
       "speed_limit               0\n",
       "lighting                  0\n",
       "weather                   0\n",
       "road_signs_present        0\n",
       "public_road               0\n",
       "time_of_day               0\n",
       "holiday                   0\n",
       "school_season             0\n",
       "num_reported_accidents    0\n",
       "accident_risk             0\n",
       "is_original               0\n",
       "dtype: int64"
      ]
     },
     "execution_count": 16,
     "metadata": {},
     "output_type": "execute_result"
    }
   ],
   "source": [
    "full_train_df.isnull().sum()"
   ]
  },
  {
   "cell_type": "code",
   "execution_count": 17,
   "id": "b826103b",
   "metadata": {},
   "outputs": [
    {
     "data": {
      "text/plain": [
       "Index(['road_type', 'num_lanes', 'curvature', 'speed_limit', 'lighting',\n",
       "       'weather', 'road_signs_present', 'public_road', 'time_of_day',\n",
       "       'holiday', 'school_season', 'num_reported_accidents', 'accident_risk',\n",
       "       'is_original'],\n",
       "      dtype='object')"
      ]
     },
     "execution_count": 17,
     "metadata": {},
     "output_type": "execute_result"
    }
   ],
   "source": [
    "full_train_df.columns"
   ]
  },
  {
   "cell_type": "code",
   "execution_count": 18,
   "id": "4b80f9f1",
   "metadata": {},
   "outputs": [
    {
     "data": {
      "text/plain": [
       "road_type\n",
       "highway    207096\n",
       "rural      205846\n",
       "urban      204812\n",
       "Name: count, dtype: int64"
      ]
     },
     "execution_count": 18,
     "metadata": {},
     "output_type": "execute_result"
    }
   ],
   "source": [
    "full_train_df['road_type'].value_counts()"
   ]
  },
  {
   "cell_type": "code",
   "execution_count": 19,
   "id": "56272850",
   "metadata": {},
   "outputs": [
    {
     "data": {
      "text/plain": [
       "lighting\n",
       "dim         217388\n",
       "daylight    211202\n",
       "night       189164\n",
       "Name: count, dtype: int64"
      ]
     },
     "execution_count": 19,
     "metadata": {},
     "output_type": "execute_result"
    }
   ],
   "source": [
    "full_train_df['lighting'].value_counts()"
   ]
  },
  {
   "cell_type": "code",
   "execution_count": 20,
   "id": "71587980",
   "metadata": {},
   "outputs": [
    {
     "data": {
      "text/plain": [
       "weather\n",
       "foggy    214737\n",
       "clear    212817\n",
       "rainy    190200\n",
       "Name: count, dtype: int64"
      ]
     },
     "execution_count": 20,
     "metadata": {},
     "output_type": "execute_result"
    }
   ],
   "source": [
    "full_train_df['weather'].value_counts()"
   ]
  },
  {
   "cell_type": "code",
   "execution_count": 22,
   "id": "02d671e3",
   "metadata": {},
   "outputs": [
    {
     "data": {
      "text/plain": [
       "time_of_day\n",
       "morning      206784\n",
       "evening      206109\n",
       "afternoon    204861\n",
       "Name: count, dtype: int64"
      ]
     },
     "execution_count": 22,
     "metadata": {},
     "output_type": "execute_result"
    }
   ],
   "source": [
    "full_train_df['time_of_day'].value_counts()"
   ]
  },
  {
   "cell_type": "code",
   "execution_count": null,
   "id": "92266c5f",
   "metadata": {},
   "outputs": [],
   "source": []
  }
 ],
 "metadata": {
  "kernelspec": {
   "display_name": "venv (3.13.5)",
   "language": "python",
   "name": "python3"
  },
  "language_info": {
   "codemirror_mode": {
    "name": "ipython",
    "version": 3
   },
   "file_extension": ".py",
   "mimetype": "text/x-python",
   "name": "python",
   "nbconvert_exporter": "python",
   "pygments_lexer": "ipython3",
   "version": "3.13.5"
  }
 },
 "nbformat": 4,
 "nbformat_minor": 5
}
